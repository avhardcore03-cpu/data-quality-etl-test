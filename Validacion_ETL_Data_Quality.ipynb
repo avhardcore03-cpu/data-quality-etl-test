{
 "cells": [
  {
   "cell_type": "code",
   "execution_count": 1,
   "id": "7ee1f0d8-ff49-4071-bf87-6d4f8398799e",
   "metadata": {},
   "outputs": [
    {
     "name": "stdout",
     "output_type": "stream",
     "text": [
      "--- DataFrames de Origen Cargados ---\n",
      "\n",
      "[ customers_raw_df ]\n",
      "   customer_id         name                  email   country\n",
      "0            1   Ana Torres          ana@email.com  Colombia\n",
      "1            2   Juan Pérez                    NaN    Mexico\n",
      "2            3  Laura Gómez  laura_gomez@email.com       NaN\n",
      "3            4   Juan Pérez    juanperez@email.com    Mexico\n",
      "4            5          NaN       andres@email.com     Chile\n",
      "\n",
      "[ transactions_raw_df ]\n",
      "   transaction_id  customer_id  amount       date\n",
      "0             100            1   200.0 2025-01-01\n",
      "1             101            2   150.0 2025-01-02\n",
      "2             102            2   150.0 2025-01-02\n",
      "3             103            3     NaN 2025-01-03\n",
      "4             104            6   300.0 2025-01-04\n",
      "\n",
      "[ transactions_clean_df (Simulada con errores) ]\n",
      "   transaction_id  amount    country\n",
      "0             100   200.0   Colombia\n",
      "1             101   150.0     Mexico\n",
      "2             102   140.0     Mexico\n",
      "3             105    50.0  Argentina\n",
      "----------------------------------------\n"
     ]
    }
   ],
   "source": [
    "import pandas as pd\n",
    "import numpy as np\n",
    "\n",
    "# --- PASO 1: Cargar los datos de prueba en DataFrames ---\n",
    "# \n",
    "\n",
    "# Creación de customers_raw\n",
    "customers_data = {\n",
    "    'customer_id': [1, 2, 3, 4, 5],\n",
    "    'name': ['Ana Torres', 'Juan Pérez', 'Laura Gómez', 'Juan Pérez', np.nan], # np.nan es el NULL\n",
    "    'email': ['ana@email.com', np.nan, 'laura_gomez@email.com', 'juanperez@email.com', 'andres@email.com'], # np.nan es el NULL\n",
    "    'country': ['Colombia', 'Mexico', np.nan, 'Mexico', 'Chile'] # np.nan es el NULL\n",
    "}\n",
    "customers_raw_df = pd.DataFrame(customers_data)\n",
    "\n",
    "# Creación de transactions_raw\n",
    "transactions_data = {\n",
    "    'transaction_id': [100, 101, 102, 103, 104],\n",
    "    'customer_id': [1, 2, 2, 3, 6], # El '6' es el huérfano\n",
    "    'amount': [200.0, 150.0, 150.0, np.nan, 300.0], # np.nan es el NULL\n",
    "    'date': pd.to_datetime(['2025-01-01', '2025-01-02', '2025-01-02', '2025-01-03', '2025-01-04'])\n",
    "}\n",
    "transactions_raw_df = pd.DataFrame(transactions_data)\n",
    "\n",
    "# Creación de transactions_clean (CON ERRORES SIMULADOS)\n",
    "transactions_clean_data = {\n",
    "    'transaction_id': [100, 101, 102, 105],\n",
    "    'amount': [200.0, 150.0, 140.0, 50.0], # Error: 140.0 en lugar de 150.0\n",
    "    'country': ['Colombia', 'Mexico', 'Mexico', 'Argentina'] # Error: Argentina es fantasma\n",
    "}\n",
    "transactions_clean_df = pd.DataFrame(transactions_clean_data)\n",
    "\n",
    "\n",
    "print(\"--- DataFrames de Origen Cargados ---\")\n",
    "print(\"\\n[ customers_raw_df ]\")\n",
    "print(customers_raw_df)\n",
    "print(\"\\n[ transactions_raw_df ]\")\n",
    "print(transactions_raw_df)\n",
    "print(\"\\n[ transactions_clean_df (Simulada con errores) ]\")\n",
    "print(transactions_clean_df)\n",
    "print(\"-\" * 40)"
   ]
  },
  {
   "cell_type": "code",
   "execution_count": 3,
   "id": "c77a17be-8832-4915-b2b0-0f6de72a7d7f",
   "metadata": {},
   "outputs": [
    {
     "name": "stdout",
     "output_type": "stream",
     "text": [
      "\n",
      "--- INICIO PRUEBA 1: COMPLETITUD ---\n",
      "🔴 FALLIDO: Se encontraron NULOS en 'customers_raw':\n",
      "name       1\n",
      "email      1\n",
      "country    1\n",
      "dtype: int64\n",
      "🔴 FALLIDO: Se encontraron NULOS en 'transactions_raw':\n",
      "amount    1\n",
      "dtype: int64\n"
     ]
    }
   ],
   "source": [
    "print(\"\\n--- INICIO PRUEBA 1: COMPLETITUD ---\")\n",
    "\n",
    "# Definir los campos obligatorios para cada tabla\n",
    "campos_obligatorios_cust = ['name', 'email', 'country']\n",
    "campos_obligatorios_trans = ['amount']\n",
    "\n",
    "# 1. Validar customers_raw\n",
    "# .isnull() crea un DF de Boleanos, .sum() los cuenta por columna\n",
    "errores_completitud_cust = customers_raw_df[campos_obligatorios_cust].isnull().sum()\n",
    "\n",
    "# Filtramos para mostrar solo las columnas que SÍ tienen errores\n",
    "errores_completitud_cust = errores_completitud_cust[errores_completitud_cust > 0]\n",
    "\n",
    "if not errores_completitud_cust.empty:\n",
    "    print(\"🔴 FALLIDO: Se encontraron NULOS en 'customers_raw':\")\n",
    "    print(errores_completitud_cust)\n",
    "else:\n",
    "    print(\"🟢 APROBADO: 'customers_raw' está completa.\")\n",
    "\n",
    "# 2. Validar transactions_raw\n",
    "errores_completitud_trans = transactions_raw_df[campos_obligatorios_trans].isnull().sum()\n",
    "errores_completitud_trans = errores_completitud_trans[errores_completitud_trans > 0]\n",
    "\n",
    "if not errores_completitud_trans.empty:\n",
    "    print(\"🔴 FALLIDO: Se encontraron NULOS en 'transactions_raw':\")\n",
    "    print(errores_completitud_trans)\n",
    "else:\n",
    "    print(\"🟢 APROBADO: 'transactions_raw' está completa.\")"
   ]
  },
  {
   "cell_type": "code",
   "execution_count": 4,
   "id": "01480de3-8088-400b-9c6a-562a8f13501d",
   "metadata": {},
   "outputs": [
    {
     "name": "stdout",
     "output_type": "stream",
     "text": [
      "\n",
      "--- INICIO PRUEBA 2: UNICIDAD (EMAIL) ---\n",
      "🟢 APROBADO: No se encontraron emails duplicados.\n"
     ]
    }
   ],
   "source": [
    "print(\"\\n--- INICIO PRUEBA 2: UNICIDAD (EMAIL) ---\")\n",
    "\n",
    "# 1. Replicamos 'WHERE email IS NOT NULL'\n",
    "df_sin_nulos = customers_raw_df.dropna(subset=['email'])\n",
    "\n",
    "# 2. Replicamos 'GROUP BY / HAVING COUNT > 1'\n",
    "# .duplicated() busca duplicados. 'keep=False' marca todas las ocurrencias.\n",
    "filas_duplicadas = df_sin_nulos[df_sin_nulos.duplicated(subset=['email'], keep=False)]\n",
    "\n",
    "if not filas_duplicadas.empty:\n",
    "    print(f\"🔴 FALLIDO: Se encontraron {len(filas_duplicadas)} registros con email duplicado:\")\n",
    "    print(filas_duplicadas.sort_values(by='email'))\n",
    "else:\n",
    "    print(\"🟢 APROBADO: No se encontraron emails duplicados.\")"
   ]
  },
  {
   "cell_type": "code",
   "execution_count": 5,
   "id": "4193e10a-97f4-4bd6-8fac-a0b7eb0accf6",
   "metadata": {},
   "outputs": [
    {
     "name": "stdout",
     "output_type": "stream",
     "text": [
      "\n",
      "--- INICIO PRUEBA 3: INTEGRIDAD REFERENCIAL ---\n",
      "🔴 FALLIDO: Se encontraron 1 transacciones huérfanas:\n",
      "   transaction_id  customer_id\n",
      "4             104            6\n"
     ]
    }
   ],
   "source": [
    "print(\"\\n--- INICIO PRUEBA 3: INTEGRIDAD REFERENCIAL ---\")\n",
    "\n",
    "# 1. Hacemos el LEFT JOIN (how='left') desde transacciones hacia clientes\n",
    "#    indicator=True es el \"asistente\" que nos dice qué falló\n",
    "merged_df = pd.merge(\n",
    "    transactions_raw_df,\n",
    "    customers_raw_df,\n",
    "    on='customer_id',\n",
    "    how='left',\n",
    "    indicator=True # ¡La magia! Crea una columna '_merge'\n",
    ")\n",
    "\n",
    "# 2. Filtramos donde el indicador sea 'left_only' (equivalente a 'WHERE c.customer_id IS NULL')\n",
    "registros_huerfanos = merged_df[merged_df['_merge'] == 'left_only']\n",
    "\n",
    "if not registros_huerfanos.empty:\n",
    "    print(f\"🔴 FALLIDO: Se encontraron {len(registros_huerfanos)} transacciones huérfanas:\")\n",
    "    # Mostramos solo las columnas relevantes del reporte de error\n",
    "    # Nota: Corregí 'customer_id_trans' a 'customer_id' para que el script se pueda ejecutar\n",
    "    # ya que el DataFrame original se llama 'customer_id'.\n",
    "    print(registros_huerfanos[['transaction_id', 'customer_id']])\n",
    "else:\n",
    "    print(\"🟢 APROBADO: No se encontraron transacciones huérfanas.\")"
   ]
  },
  {
   "cell_type": "code",
   "execution_count": 6,
   "id": "353afa03-a80b-42d6-82eb-931b1d6797da",
   "metadata": {},
   "outputs": [
    {
     "name": "stdout",
     "output_type": "stream",
     "text": [
      "\n",
      "--- INICIO PRUEBA 4: RECONCILIACIÓN ---\n",
      "🔴 FALLIDO: Se encontraron 2 discrepancias en la reconciliación:\n",
      "     country  total_origen  total_destino  diferencia\n",
      "0  Argentina           0.0           50.0       -50.0\n",
      "2     Mexico         300.0          290.0        10.0\n"
     ]
    }
   ],
   "source": [
    "print(\"\\n--- INICIO PRUEBA 4: RECONCILIACIÓN ---\")\n",
    "\n",
    "# --- Fase 1: Calcular Totales de Origen (limpios) ---\n",
    "# 1. Unir (INNER JOIN por defecto)\n",
    "origen_merged = pd.merge(transactions_raw_df, customers_raw_df, on='customer_id')\n",
    "\n",
    "# 2. Filtrar (WHERE ... IS NOT NULL)\n",
    "origen_filtrado = origen_merged.dropna(subset=['amount', 'country'])\n",
    "\n",
    "# 3. Agrupar (GROUP BY / SUM)\n",
    "totales_origen = origen_filtrado.groupby('country')['amount'].sum().reset_index()\n",
    "totales_origen = totales_origen.rename(columns={'amount': 'total_origen'})\n",
    "\n",
    "# --- Fase 2: Calcular Totales de Destino ---\n",
    "totales_destino = transactions_clean_df.groupby('country')['amount'].sum().reset_index()\n",
    "totales_destino = totales_destino.rename(columns={'amount': 'total_destino'})\n",
    "\n",
    "# --- Fase 3: Comparar (FULL OUTER JOIN) ---\n",
    "# 1. how='outer' es el FULL OUTER JOIN\n",
    "reporte_final = pd.merge(\n",
    "    totales_origen,\n",
    "    totales_destino,\n",
    "    on='country',\n",
    "    how='outer'\n",
    ")\n",
    "\n",
    "# 2. Rellenar NULLs con 0 (el COALESCE)\n",
    "reporte_final = reporte_final.fillna(0)\n",
    "\n",
    "# 3. Calcular la diferencia\n",
    "reporte_final['diferencia'] = reporte_final['total_origen'] - reporte_final['total_destino']\n",
    "\n",
    "# 4. Filtrar (WHERE diferencia != 0)\n",
    "errores_reconciliacion = reporte_final[reporte_final['diferencia'] != 0]\n",
    "\n",
    "if not errores_reconciliacion.empty:\n",
    "    print(f\"🔴 FALLIDO: Se encontraron {len(errores_reconciliacion)} discrepancias en la reconciliación:\")\n",
    "    print(errores_reconciliacion)\n",
    "else:\n",
    "    print(\"🟢 APROBADO: La reconciliación de totales es exitosa.\")"
   ]
  },
  {
   "cell_type": "code",
   "execution_count": null,
   "id": "3da20d16-6f97-4b1c-96b1-6fa51233f95c",
   "metadata": {},
   "outputs": [],
   "source": []
  }
 ],
 "metadata": {
  "kernelspec": {
   "display_name": "Python [conda env:base] *",
   "language": "python",
   "name": "conda-base-py"
  },
  "language_info": {
   "codemirror_mode": {
    "name": "ipython",
    "version": 3
   },
   "file_extension": ".py",
   "mimetype": "text/x-python",
   "name": "python",
   "nbconvert_exporter": "python",
   "pygments_lexer": "ipython3",
   "version": "3.13.5"
  }
 },
 "nbformat": 4,
 "nbformat_minor": 5
}
